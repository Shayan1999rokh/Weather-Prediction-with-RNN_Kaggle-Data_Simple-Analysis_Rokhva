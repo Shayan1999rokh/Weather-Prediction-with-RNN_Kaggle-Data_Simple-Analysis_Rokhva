{
  "metadata": {
    "kernelspec": {
      "name": "python3",
      "display_name": "Python 3",
      "language": "python"
    },
    "language_info": {
      "name": "python",
      "version": "3.10.12",
      "mimetype": "text/x-python",
      "codemirror_mode": {
        "name": "ipython",
        "version": 3
      },
      "pygments_lexer": "ipython3",
      "nbconvert_exporter": "python",
      "file_extension": ".py"
    },
    "kaggle": {
      "accelerator": "none",
      "dataSources": [
        {
          "sourceId": 3051857,
          "sourceType": "datasetVersion",
          "datasetId": 1868601
        }
      ],
      "dockerImageVersionId": 30635,
      "isInternetEnabled": true,
      "language": "python",
      "sourceType": "notebook",
      "isGpuEnabled": false
    },
    "colab": {
      "name": "Weather Prediction using RNN",
      "provenance": []
    }
  },
  "nbformat_minor": 0,
  "nbformat": 4,
  "cells": [
    {
      "cell_type": "markdown",
      "source": [
        "# **Weather Data - Kaggle - Practice - Shayan Rokhva - Tarbiat Modares University**"
      ],
      "metadata": {
        "id": "9jNhicQHjSAC"
      }
    },
    {
      "source": [
        "# IMPORTANT: RUN THIS CELL IN ORDER TO IMPORT YOUR KAGGLE DATA SOURCES,\n",
        "# THEN FEEL FREE TO DELETE THIS CELL.\n",
        "# NOTE: THIS NOTEBOOK ENVIRONMENT DIFFERS FROM KAGGLE'S PYTHON\n",
        "# ENVIRONMENT SO THERE MAY BE MISSING LIBRARIES USED BY YOUR\n",
        "# NOTEBOOK.\n",
        "import kagglehub\n",
        "ananthr1_weather_prediction_path = kagglehub.dataset_download('ananthr1/weather-prediction')\n",
        "\n",
        "print('Data source import complete.')\n"
      ],
      "metadata": {
        "id": "JS5g5LZditK0",
        "outputId": "746f4777-a5db-4b55-88dd-cec63e0828d2",
        "colab": {
          "base_uri": "https://localhost:8080/"
        }
      },
      "cell_type": "code",
      "outputs": [
        {
          "output_type": "stream",
          "name": "stdout",
          "text": [
            "Downloading from https://www.kaggle.com/api/v1/datasets/download/ananthr1/weather-prediction?dataset_version_number=1...\n"
          ]
        },
        {
          "output_type": "stream",
          "name": "stderr",
          "text": [
            "100%|██████████| 11.5k/11.5k [00:00<00:00, 18.6MB/s]"
          ]
        },
        {
          "output_type": "stream",
          "name": "stdout",
          "text": [
            "Extracting files...\n",
            "Data source import complete.\n"
          ]
        },
        {
          "output_type": "stream",
          "name": "stderr",
          "text": [
            "\n"
          ]
        }
      ],
      "execution_count": 1
    },
    {
      "cell_type": "code",
      "source": [
        "import pandas as pd\n",
        "import numpy as np\n",
        "import matplotlib.pyplot as plt"
      ],
      "metadata": {
        "execution": {
          "iopub.status.busy": "2024-01-19T15:29:50.771382Z",
          "iopub.execute_input": "2024-01-19T15:29:50.771984Z",
          "iopub.status.idle": "2024-01-19T15:29:51.092184Z",
          "shell.execute_reply.started": "2024-01-19T15:29:50.771952Z",
          "shell.execute_reply": "2024-01-19T15:29:51.09077Z"
        },
        "trusted": true,
        "id": "O0dHVhxJitK8"
      },
      "execution_count": 2,
      "outputs": []
    },
    {
      "cell_type": "code",
      "source": [
        "df = pd.read_csv('/kaggle/input/weather-prediction/seattle-weather.csv')"
      ],
      "metadata": {
        "execution": {
          "iopub.status.busy": "2024-01-19T15:29:51.094486Z",
          "iopub.execute_input": "2024-01-19T15:29:51.095486Z",
          "iopub.status.idle": "2024-01-19T15:29:51.124126Z",
          "shell.execute_reply.started": "2024-01-19T15:29:51.095439Z",
          "shell.execute_reply": "2024-01-19T15:29:51.123038Z"
        },
        "trusted": true,
        "id": "lVUjjZcRitK9",
        "outputId": "981aa223-62f9-47fd-94c8-80e2da68e855",
        "colab": {
          "base_uri": "https://localhost:8080/",
          "height": 287
        }
      },
      "execution_count": 3,
      "outputs": [
        {
          "output_type": "error",
          "ename": "FileNotFoundError",
          "evalue": "[Errno 2] No such file or directory: '/kaggle/input/weather-prediction/seattle-weather.csv'",
          "traceback": [
            "\u001b[0;31m---------------------------------------------------------------------------\u001b[0m",
            "\u001b[0;31mFileNotFoundError\u001b[0m                         Traceback (most recent call last)",
            "\u001b[0;32m/tmp/ipython-input-2312462284.py\u001b[0m in \u001b[0;36m<cell line: 0>\u001b[0;34m()\u001b[0m\n\u001b[0;32m----> 1\u001b[0;31m \u001b[0mdf\u001b[0m \u001b[0;34m=\u001b[0m \u001b[0mpd\u001b[0m\u001b[0;34m.\u001b[0m\u001b[0mread_csv\u001b[0m\u001b[0;34m(\u001b[0m\u001b[0;34m'/kaggle/input/weather-prediction/seattle-weather.csv'\u001b[0m\u001b[0;34m)\u001b[0m\u001b[0;34m\u001b[0m\u001b[0;34m\u001b[0m\u001b[0m\n\u001b[0m",
            "\u001b[0;32m/usr/local/lib/python3.12/dist-packages/pandas/io/parsers/readers.py\u001b[0m in \u001b[0;36mread_csv\u001b[0;34m(filepath_or_buffer, sep, delimiter, header, names, index_col, usecols, dtype, engine, converters, true_values, false_values, skipinitialspace, skiprows, skipfooter, nrows, na_values, keep_default_na, na_filter, verbose, skip_blank_lines, parse_dates, infer_datetime_format, keep_date_col, date_parser, date_format, dayfirst, cache_dates, iterator, chunksize, compression, thousands, decimal, lineterminator, quotechar, quoting, doublequote, escapechar, comment, encoding, encoding_errors, dialect, on_bad_lines, delim_whitespace, low_memory, memory_map, float_precision, storage_options, dtype_backend)\u001b[0m\n\u001b[1;32m   1024\u001b[0m     \u001b[0mkwds\u001b[0m\u001b[0;34m.\u001b[0m\u001b[0mupdate\u001b[0m\u001b[0;34m(\u001b[0m\u001b[0mkwds_defaults\u001b[0m\u001b[0;34m)\u001b[0m\u001b[0;34m\u001b[0m\u001b[0;34m\u001b[0m\u001b[0m\n\u001b[1;32m   1025\u001b[0m \u001b[0;34m\u001b[0m\u001b[0m\n\u001b[0;32m-> 1026\u001b[0;31m     \u001b[0;32mreturn\u001b[0m \u001b[0m_read\u001b[0m\u001b[0;34m(\u001b[0m\u001b[0mfilepath_or_buffer\u001b[0m\u001b[0;34m,\u001b[0m \u001b[0mkwds\u001b[0m\u001b[0;34m)\u001b[0m\u001b[0;34m\u001b[0m\u001b[0;34m\u001b[0m\u001b[0m\n\u001b[0m\u001b[1;32m   1027\u001b[0m \u001b[0;34m\u001b[0m\u001b[0m\n\u001b[1;32m   1028\u001b[0m \u001b[0;34m\u001b[0m\u001b[0m\n",
            "\u001b[0;32m/usr/local/lib/python3.12/dist-packages/pandas/io/parsers/readers.py\u001b[0m in \u001b[0;36m_read\u001b[0;34m(filepath_or_buffer, kwds)\u001b[0m\n\u001b[1;32m    618\u001b[0m \u001b[0;34m\u001b[0m\u001b[0m\n\u001b[1;32m    619\u001b[0m     \u001b[0;31m# Create the parser.\u001b[0m\u001b[0;34m\u001b[0m\u001b[0;34m\u001b[0m\u001b[0m\n\u001b[0;32m--> 620\u001b[0;31m     \u001b[0mparser\u001b[0m \u001b[0;34m=\u001b[0m \u001b[0mTextFileReader\u001b[0m\u001b[0;34m(\u001b[0m\u001b[0mfilepath_or_buffer\u001b[0m\u001b[0;34m,\u001b[0m \u001b[0;34m**\u001b[0m\u001b[0mkwds\u001b[0m\u001b[0;34m)\u001b[0m\u001b[0;34m\u001b[0m\u001b[0;34m\u001b[0m\u001b[0m\n\u001b[0m\u001b[1;32m    621\u001b[0m \u001b[0;34m\u001b[0m\u001b[0m\n\u001b[1;32m    622\u001b[0m     \u001b[0;32mif\u001b[0m \u001b[0mchunksize\u001b[0m \u001b[0;32mor\u001b[0m \u001b[0miterator\u001b[0m\u001b[0;34m:\u001b[0m\u001b[0;34m\u001b[0m\u001b[0;34m\u001b[0m\u001b[0m\n",
            "\u001b[0;32m/usr/local/lib/python3.12/dist-packages/pandas/io/parsers/readers.py\u001b[0m in \u001b[0;36m__init__\u001b[0;34m(self, f, engine, **kwds)\u001b[0m\n\u001b[1;32m   1618\u001b[0m \u001b[0;34m\u001b[0m\u001b[0m\n\u001b[1;32m   1619\u001b[0m         \u001b[0mself\u001b[0m\u001b[0;34m.\u001b[0m\u001b[0mhandles\u001b[0m\u001b[0;34m:\u001b[0m \u001b[0mIOHandles\u001b[0m \u001b[0;34m|\u001b[0m \u001b[0;32mNone\u001b[0m \u001b[0;34m=\u001b[0m \u001b[0;32mNone\u001b[0m\u001b[0;34m\u001b[0m\u001b[0;34m\u001b[0m\u001b[0m\n\u001b[0;32m-> 1620\u001b[0;31m         \u001b[0mself\u001b[0m\u001b[0;34m.\u001b[0m\u001b[0m_engine\u001b[0m \u001b[0;34m=\u001b[0m \u001b[0mself\u001b[0m\u001b[0;34m.\u001b[0m\u001b[0m_make_engine\u001b[0m\u001b[0;34m(\u001b[0m\u001b[0mf\u001b[0m\u001b[0;34m,\u001b[0m \u001b[0mself\u001b[0m\u001b[0;34m.\u001b[0m\u001b[0mengine\u001b[0m\u001b[0;34m)\u001b[0m\u001b[0;34m\u001b[0m\u001b[0;34m\u001b[0m\u001b[0m\n\u001b[0m\u001b[1;32m   1621\u001b[0m \u001b[0;34m\u001b[0m\u001b[0m\n\u001b[1;32m   1622\u001b[0m     \u001b[0;32mdef\u001b[0m \u001b[0mclose\u001b[0m\u001b[0;34m(\u001b[0m\u001b[0mself\u001b[0m\u001b[0;34m)\u001b[0m \u001b[0;34m->\u001b[0m \u001b[0;32mNone\u001b[0m\u001b[0;34m:\u001b[0m\u001b[0;34m\u001b[0m\u001b[0;34m\u001b[0m\u001b[0m\n",
            "\u001b[0;32m/usr/local/lib/python3.12/dist-packages/pandas/io/parsers/readers.py\u001b[0m in \u001b[0;36m_make_engine\u001b[0;34m(self, f, engine)\u001b[0m\n\u001b[1;32m   1878\u001b[0m                 \u001b[0;32mif\u001b[0m \u001b[0;34m\"b\"\u001b[0m \u001b[0;32mnot\u001b[0m \u001b[0;32min\u001b[0m \u001b[0mmode\u001b[0m\u001b[0;34m:\u001b[0m\u001b[0;34m\u001b[0m\u001b[0;34m\u001b[0m\u001b[0m\n\u001b[1;32m   1879\u001b[0m                     \u001b[0mmode\u001b[0m \u001b[0;34m+=\u001b[0m \u001b[0;34m\"b\"\u001b[0m\u001b[0;34m\u001b[0m\u001b[0;34m\u001b[0m\u001b[0m\n\u001b[0;32m-> 1880\u001b[0;31m             self.handles = get_handle(\n\u001b[0m\u001b[1;32m   1881\u001b[0m                 \u001b[0mf\u001b[0m\u001b[0;34m,\u001b[0m\u001b[0;34m\u001b[0m\u001b[0;34m\u001b[0m\u001b[0m\n\u001b[1;32m   1882\u001b[0m                 \u001b[0mmode\u001b[0m\u001b[0;34m,\u001b[0m\u001b[0;34m\u001b[0m\u001b[0;34m\u001b[0m\u001b[0m\n",
            "\u001b[0;32m/usr/local/lib/python3.12/dist-packages/pandas/io/common.py\u001b[0m in \u001b[0;36mget_handle\u001b[0;34m(path_or_buf, mode, encoding, compression, memory_map, is_text, errors, storage_options)\u001b[0m\n\u001b[1;32m    871\u001b[0m         \u001b[0;32mif\u001b[0m \u001b[0mioargs\u001b[0m\u001b[0;34m.\u001b[0m\u001b[0mencoding\u001b[0m \u001b[0;32mand\u001b[0m \u001b[0;34m\"b\"\u001b[0m \u001b[0;32mnot\u001b[0m \u001b[0;32min\u001b[0m \u001b[0mioargs\u001b[0m\u001b[0;34m.\u001b[0m\u001b[0mmode\u001b[0m\u001b[0;34m:\u001b[0m\u001b[0;34m\u001b[0m\u001b[0;34m\u001b[0m\u001b[0m\n\u001b[1;32m    872\u001b[0m             \u001b[0;31m# Encoding\u001b[0m\u001b[0;34m\u001b[0m\u001b[0;34m\u001b[0m\u001b[0m\n\u001b[0;32m--> 873\u001b[0;31m             handle = open(\n\u001b[0m\u001b[1;32m    874\u001b[0m                 \u001b[0mhandle\u001b[0m\u001b[0;34m,\u001b[0m\u001b[0;34m\u001b[0m\u001b[0;34m\u001b[0m\u001b[0m\n\u001b[1;32m    875\u001b[0m                 \u001b[0mioargs\u001b[0m\u001b[0;34m.\u001b[0m\u001b[0mmode\u001b[0m\u001b[0;34m,\u001b[0m\u001b[0;34m\u001b[0m\u001b[0;34m\u001b[0m\u001b[0m\n",
            "\u001b[0;31mFileNotFoundError\u001b[0m: [Errno 2] No such file or directory: '/kaggle/input/weather-prediction/seattle-weather.csv'"
          ]
        }
      ]
    },
    {
      "cell_type": "code",
      "source": [
        "df.head()"
      ],
      "metadata": {
        "execution": {
          "iopub.status.busy": "2024-01-19T15:29:51.125514Z",
          "iopub.execute_input": "2024-01-19T15:29:51.125809Z",
          "iopub.status.idle": "2024-01-19T15:29:51.151108Z",
          "shell.execute_reply.started": "2024-01-19T15:29:51.125785Z",
          "shell.execute_reply": "2024-01-19T15:29:51.150036Z"
        },
        "trusted": true,
        "id": "IHHsDF8MitK-"
      },
      "execution_count": null,
      "outputs": []
    },
    {
      "cell_type": "code",
      "source": [
        "df.isnull().sum()"
      ],
      "metadata": {
        "execution": {
          "iopub.status.busy": "2024-01-19T15:29:51.154197Z",
          "iopub.execute_input": "2024-01-19T15:29:51.154603Z",
          "iopub.status.idle": "2024-01-19T15:29:51.16357Z",
          "shell.execute_reply.started": "2024-01-19T15:29:51.154572Z",
          "shell.execute_reply": "2024-01-19T15:29:51.162748Z"
        },
        "trusted": true,
        "id": "K1CsVWoFitK_"
      },
      "execution_count": null,
      "outputs": []
    },
    {
      "cell_type": "code",
      "source": [
        "df.duplicated().sum()"
      ],
      "metadata": {
        "execution": {
          "iopub.status.busy": "2024-01-19T15:29:51.164855Z",
          "iopub.execute_input": "2024-01-19T15:29:51.165117Z",
          "iopub.status.idle": "2024-01-19T15:29:51.182501Z",
          "shell.execute_reply.started": "2024-01-19T15:29:51.165091Z",
          "shell.execute_reply": "2024-01-19T15:29:51.181505Z"
        },
        "trusted": true,
        "id": "6RNuaaAvitLA"
      },
      "execution_count": null,
      "outputs": []
    },
    {
      "cell_type": "code",
      "source": [
        "#coulmn Open converted into numpy array\n",
        "training_set = df.iloc[:,2:3].values\n",
        "training_set"
      ],
      "metadata": {
        "execution": {
          "iopub.status.busy": "2024-01-19T15:29:51.183653Z",
          "iopub.execute_input": "2024-01-19T15:29:51.18391Z",
          "iopub.status.idle": "2024-01-19T15:29:51.194982Z",
          "shell.execute_reply.started": "2024-01-19T15:29:51.183887Z",
          "shell.execute_reply": "2024-01-19T15:29:51.193883Z"
        },
        "trusted": true,
        "id": "xhsDtzyzitLB"
      },
      "execution_count": null,
      "outputs": []
    },
    {
      "cell_type": "code",
      "source": [
        "len(training_set)"
      ],
      "metadata": {
        "execution": {
          "iopub.status.busy": "2024-01-19T15:29:51.196828Z",
          "iopub.execute_input": "2024-01-19T15:29:51.197169Z",
          "iopub.status.idle": "2024-01-19T15:29:51.206019Z",
          "shell.execute_reply.started": "2024-01-19T15:29:51.197138Z",
          "shell.execute_reply": "2024-01-19T15:29:51.204803Z"
        },
        "trusted": true,
        "id": "LwZU69hlitLE"
      },
      "execution_count": null,
      "outputs": []
    },
    {
      "cell_type": "code",
      "source": [
        "def df_to_XY(df,window_size=10):\n",
        " X_train=[]\n",
        " y_train=[]\n",
        "\n",
        " for i in range(10,len(training_set)):\n",
        "    X_train.append(training_set[i-10:i,0])\n",
        "    y_train.append(training_set[i,0])\n",
        "\n",
        " X_train, y_train = np.array(X_train), np.array(y_train)\n",
        " return X_train, y_train"
      ],
      "metadata": {
        "execution": {
          "iopub.status.busy": "2024-01-19T15:31:04.399096Z",
          "iopub.execute_input": "2024-01-19T15:31:04.399623Z",
          "iopub.status.idle": "2024-01-19T15:31:04.404758Z",
          "shell.execute_reply.started": "2024-01-19T15:31:04.399595Z",
          "shell.execute_reply": "2024-01-19T15:31:04.40396Z"
        },
        "trusted": true,
        "id": "GRb9heRXitLF"
      },
      "execution_count": null,
      "outputs": []
    },
    {
      "cell_type": "code",
      "source": [
        "WINDOW = 10\n",
        "X,y = df_to_XY(df,WINDOW)\n",
        "print(len(X),len(y))\n",
        "X_train = X[:800]\n",
        "y_train = y[:800]\n",
        "X_val = X[800:1000]\n",
        "y_val = y[800:1000]\n",
        "X_test = X[1000:]\n",
        "x_test = y[1000:]"
      ],
      "metadata": {
        "execution": {
          "iopub.status.busy": "2024-01-19T15:35:28.567533Z",
          "iopub.execute_input": "2024-01-19T15:35:28.567842Z",
          "iopub.status.idle": "2024-01-19T15:35:28.575908Z",
          "shell.execute_reply.started": "2024-01-19T15:35:28.567818Z",
          "shell.execute_reply": "2024-01-19T15:35:28.57478Z"
        },
        "trusted": true,
        "id": "92z7ZLOmitLG"
      },
      "execution_count": null,
      "outputs": []
    },
    {
      "cell_type": "code",
      "source": [
        "#Reshaping(To add new dimensions)\n",
        "X_train = np.reshape(X_train,(X_train.shape[0],X_train.shape[1],1))\n",
        "X_val = np.reshape(X_val,(X_val.shape[0],X_val.shape[1],1))\n",
        "X_test = np.reshape(X_test,(X_test.shape[0],X_test.shape[1],1))\n"
      ],
      "metadata": {
        "execution": {
          "iopub.status.busy": "2024-01-19T15:35:31.168032Z",
          "iopub.execute_input": "2024-01-19T15:35:31.168546Z",
          "iopub.status.idle": "2024-01-19T15:35:31.173257Z",
          "shell.execute_reply.started": "2024-01-19T15:35:31.168499Z",
          "shell.execute_reply": "2024-01-19T15:35:31.172266Z"
        },
        "trusted": true,
        "id": "O6IdszFbitLH"
      },
      "execution_count": null,
      "outputs": []
    },
    {
      "cell_type": "code",
      "source": [
        "#Building the RNN\n",
        "from keras.models import Sequential\n",
        "from keras.layers import Dense, LSTM, Dropout"
      ],
      "metadata": {
        "execution": {
          "iopub.status.busy": "2024-01-19T15:35:33.495243Z",
          "iopub.execute_input": "2024-01-19T15:35:33.495559Z",
          "iopub.status.idle": "2024-01-19T15:35:44.718375Z",
          "shell.execute_reply.started": "2024-01-19T15:35:33.495534Z",
          "shell.execute_reply": "2024-01-19T15:35:44.716869Z"
        },
        "trusted": true,
        "id": "syC673JCitLH"
      },
      "execution_count": null,
      "outputs": []
    },
    {
      "cell_type": "code",
      "source": [
        "regressor = Sequential()"
      ],
      "metadata": {
        "execution": {
          "iopub.status.busy": "2024-01-19T15:36:30.280299Z",
          "iopub.execute_input": "2024-01-19T15:36:30.281466Z",
          "iopub.status.idle": "2024-01-19T15:36:30.366558Z",
          "shell.execute_reply.started": "2024-01-19T15:36:30.281431Z",
          "shell.execute_reply": "2024-01-19T15:36:30.365848Z"
        },
        "trusted": true,
        "id": "B20B3ULNitLJ"
      },
      "execution_count": null,
      "outputs": []
    },
    {
      "cell_type": "code",
      "source": [
        "#Addinf the first LSTM layer and some Dropout regularisation\n",
        "regressor.add(LSTM(units=50, return_sequences = True, input_shape=(X_train.shape[1], 1)))\n",
        "regressor.add(Dropout(0.2))\n",
        "\n",
        "regressor.add(LSTM(units=50, return_sequences = True))\n",
        "regressor.add(Dropout(0.2))\n",
        "\n",
        "regressor.add(LSTM(units=50, return_sequences = True))\n",
        "regressor.add(Dropout(0.2))\n",
        "\n",
        "regressor.add(LSTM(units=50))\n",
        "regressor.add(Dropout(0.2))\n",
        "\n",
        "#Output layer\n",
        "regressor.add(Dense(units=1))"
      ],
      "metadata": {
        "execution": {
          "iopub.status.busy": "2024-01-19T15:36:32.932717Z",
          "iopub.execute_input": "2024-01-19T15:36:32.933487Z",
          "iopub.status.idle": "2024-01-19T15:36:34.072244Z",
          "shell.execute_reply.started": "2024-01-19T15:36:32.933461Z",
          "shell.execute_reply": "2024-01-19T15:36:34.071593Z"
        },
        "trusted": true,
        "id": "VwkfoMLwitLJ"
      },
      "execution_count": null,
      "outputs": []
    },
    {
      "cell_type": "code",
      "source": [
        "#Compiling\n",
        "regressor.compile(optimizer='adam',loss='mean_squared_error')"
      ],
      "metadata": {
        "execution": {
          "iopub.status.busy": "2024-01-19T15:36:36.309758Z",
          "iopub.execute_input": "2024-01-19T15:36:36.310427Z",
          "iopub.status.idle": "2024-01-19T15:36:36.336187Z",
          "shell.execute_reply.started": "2024-01-19T15:36:36.310396Z",
          "shell.execute_reply": "2024-01-19T15:36:36.335226Z"
        },
        "trusted": true,
        "id": "3vKRKiwxitLK"
      },
      "execution_count": null,
      "outputs": []
    },
    {
      "cell_type": "code",
      "source": [
        "from tensorflow.keras.callbacks import ModelCheckpoint,EarlyStopping\n",
        "from tensorflow.keras.losses import MeanSquaredError\n",
        "from tensorflow.keras.metrics import RootMeanSquaredError\n",
        "from tensorflow.keras.optimizers import Adam\n"
      ],
      "metadata": {
        "execution": {
          "iopub.status.busy": "2024-01-19T15:36:38.301348Z",
          "iopub.execute_input": "2024-01-19T15:36:38.30169Z",
          "iopub.status.idle": "2024-01-19T15:36:38.425227Z",
          "shell.execute_reply.started": "2024-01-19T15:36:38.301666Z",
          "shell.execute_reply": "2024-01-19T15:36:38.424145Z"
        },
        "trusted": true,
        "id": "6LwnhtMcitLN"
      },
      "execution_count": null,
      "outputs": []
    },
    {
      "cell_type": "code",
      "source": [
        "#fitting the rnn to the training set\n",
        "history=regressor.fit(X_train,y_train,validation_data=(X_val,y_val),epochs=100, batch_size=32)"
      ],
      "metadata": {
        "execution": {
          "iopub.status.busy": "2024-01-19T15:36:40.222324Z",
          "iopub.execute_input": "2024-01-19T15:36:40.222674Z",
          "iopub.status.idle": "2024-01-19T15:37:24.603234Z",
          "shell.execute_reply.started": "2024-01-19T15:36:40.222648Z",
          "shell.execute_reply": "2024-01-19T15:37:24.602447Z"
        },
        "trusted": true,
        "id": "ggJ85IgYitLN"
      },
      "execution_count": null,
      "outputs": []
    },
    {
      "cell_type": "code",
      "source": [
        "his = pd.DataFrame(history.history)"
      ],
      "metadata": {
        "execution": {
          "iopub.status.busy": "2024-01-19T15:37:29.284865Z",
          "iopub.execute_input": "2024-01-19T15:37:29.285191Z",
          "iopub.status.idle": "2024-01-19T15:37:29.290986Z",
          "shell.execute_reply.started": "2024-01-19T15:37:29.285167Z",
          "shell.execute_reply": "2024-01-19T15:37:29.289511Z"
        },
        "trusted": true,
        "id": "37kteIuqitLO"
      },
      "execution_count": null,
      "outputs": []
    },
    {
      "cell_type": "code",
      "source": [
        "his.head()"
      ],
      "metadata": {
        "execution": {
          "iopub.status.busy": "2024-01-19T15:37:31.048596Z",
          "iopub.execute_input": "2024-01-19T15:37:31.048923Z",
          "iopub.status.idle": "2024-01-19T15:37:31.058592Z",
          "shell.execute_reply.started": "2024-01-19T15:37:31.048901Z",
          "shell.execute_reply": "2024-01-19T15:37:31.057143Z"
        },
        "trusted": true,
        "id": "swlmzDzGitLO"
      },
      "execution_count": null,
      "outputs": []
    },
    {
      "cell_type": "code",
      "source": [
        "import seaborn as sns\n",
        "his.columns\n",
        "history_loss = his[['loss', 'val_loss']]\n",
        "\n",
        "\n",
        "fig,axes = plt.subplots(2,1,figsize=(14,8))\n",
        "plt.subplot(2,1,1)\n",
        "plt.title(\"Loss & Val Loss\")\n",
        "sns.lineplot(history_loss,palette=\"flare\");\n",
        "\n"
      ],
      "metadata": {
        "execution": {
          "iopub.status.busy": "2024-01-19T15:37:37.936374Z",
          "iopub.execute_input": "2024-01-19T15:37:37.936738Z",
          "iopub.status.idle": "2024-01-19T15:37:39.040645Z",
          "shell.execute_reply.started": "2024-01-19T15:37:37.936711Z",
          "shell.execute_reply": "2024-01-19T15:37:39.038338Z"
        },
        "trusted": true,
        "id": "70rDHTqWitLO"
      },
      "execution_count": null,
      "outputs": []
    },
    {
      "cell_type": "code",
      "source": [
        "train_pred = regressor.predict(X_train).flatten()\n",
        "val_pred = regressor.predict(X_val).flatten()\n",
        "test_pred = regressor.predict(X_test).flatten()"
      ],
      "metadata": {
        "execution": {
          "iopub.status.busy": "2024-01-19T15:37:42.817042Z",
          "iopub.execute_input": "2024-01-19T15:37:42.817369Z",
          "iopub.status.idle": "2024-01-19T15:37:45.748656Z",
          "shell.execute_reply.started": "2024-01-19T15:37:42.817345Z",
          "shell.execute_reply": "2024-01-19T15:37:45.74758Z"
        },
        "trusted": true,
        "id": "ObxWUdahitLO"
      },
      "execution_count": null,
      "outputs": []
    },
    {
      "cell_type": "code",
      "source": [
        "pred = np.concatenate([train_pred,val_pred,test_pred])\n",
        "df_pred = pd.DataFrame(df[\"temp_max\"].copy())\n",
        "df_pred.columns=[\"actual\"]\n",
        "df_pred = df_pred[WINDOW:]\n",
        "df_pred[\"predicted\"] = pred\n",
        "\n",
        "fig,axes = plt.subplots(2,1,figsize=(14,8),dpi=400)\n",
        "\n",
        "plt.subplot(2,1,1)\n",
        "plt.title(\"Validation Results\")\n",
        "sns.lineplot(df_pred[800:],alpha=0.8,palette=\"flare\",linestyle=None);\n",
        "\n",
        "plt.subplot(2,1,2)\n",
        "plt.title(\"Test Results\")\n",
        "sns.lineplot(df_pred[1000:],alpha=0.8,palette=\"flare\",linestyle=None);"
      ],
      "metadata": {
        "execution": {
          "iopub.status.busy": "2024-01-19T15:37:48.60181Z",
          "iopub.execute_input": "2024-01-19T15:37:48.602212Z",
          "iopub.status.idle": "2024-01-19T15:37:50.249852Z",
          "shell.execute_reply.started": "2024-01-19T15:37:48.60218Z",
          "shell.execute_reply": "2024-01-19T15:37:50.248829Z"
        },
        "trusted": true,
        "id": "mwQXRfwWitLO"
      },
      "execution_count": null,
      "outputs": []
    },
    {
      "cell_type": "code",
      "source": [],
      "metadata": {
        "id": "FtGi9evlitLO"
      },
      "execution_count": null,
      "outputs": []
    }
  ]
}